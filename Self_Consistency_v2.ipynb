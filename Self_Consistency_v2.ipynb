{
  "nbformat": 4,
  "nbformat_minor": 0,
  "metadata": {
    "colab": {
      "provenance": []
    },
    "kernelspec": {
      "name": "python3",
      "display_name": "Python 3"
    },
    "language_info": {
      "name": "python"
    }
  },
  "cells": [
    {
      "cell_type": "code",
      "execution_count": 2,
      "metadata": {
        "id": "WBOJbTAFeoIs"
      },
      "outputs": [],
      "source": [
        "pip install -q openai"
      ]
    },
    {
      "cell_type": "code",
      "source": [
        "from google.colab import userdata\n",
        "import openai\n",
        "\n",
        "# establece la API key\n",
        "openai.api_key = userdata.get('OpenAIKEY')\n",
        "\n",
        "# Definición de persona del sistema e historial de mensajes\n",
        "messages = [\n",
        "    {\n",
        "        \"role\": \"system\",\n",
        "        \"content\": \"Tu eres un asistente prestativo y educado.\" # establece la persona del modelo, si será educado, formal, sarcástico, etc.\n",
        "    }\n",
        "]"
      ],
      "metadata": {
        "id": "C1_QzyfBewyM",
        "outputId": "63fa5eb9-163d-4408-f98e-cd7bb25bd4b9",
        "colab": {
          "base_uri": "https://localhost:8080/",
          "height": 332
        }
      },
      "execution_count": 5,
      "outputs": [
        {
          "output_type": "error",
          "ename": "SecretNotFoundError",
          "evalue": "Secret OpenAIKEY does not exist.",
          "traceback": [
            "\u001b[0;31m---------------------------------------------------------------------------\u001b[0m",
            "\u001b[0;31mSecretNotFoundError\u001b[0m                       Traceback (most recent call last)",
            "\u001b[0;32m/tmp/ipython-input-3277395607.py\u001b[0m in \u001b[0;36m<cell line: 0>\u001b[0;34m()\u001b[0m\n\u001b[1;32m      3\u001b[0m \u001b[0;34m\u001b[0m\u001b[0m\n\u001b[1;32m      4\u001b[0m \u001b[0;31m# establece la API key\u001b[0m\u001b[0;34m\u001b[0m\u001b[0;34m\u001b[0m\u001b[0m\n\u001b[0;32m----> 5\u001b[0;31m \u001b[0mopenai\u001b[0m\u001b[0;34m.\u001b[0m\u001b[0mapi_key\u001b[0m \u001b[0;34m=\u001b[0m \u001b[0muserdata\u001b[0m\u001b[0;34m.\u001b[0m\u001b[0mget\u001b[0m\u001b[0;34m(\u001b[0m\u001b[0;34m'OpenAIKEY'\u001b[0m\u001b[0;34m)\u001b[0m\u001b[0;34m\u001b[0m\u001b[0;34m\u001b[0m\u001b[0m\n\u001b[0m\u001b[1;32m      6\u001b[0m \u001b[0;34m\u001b[0m\u001b[0m\n\u001b[1;32m      7\u001b[0m \u001b[0;31m# Definición de persona del sistema e historial de mensajes\u001b[0m\u001b[0;34m\u001b[0m\u001b[0;34m\u001b[0m\u001b[0m\n",
            "\u001b[0;32m/usr/local/lib/python3.12/dist-packages/google/colab/userdata.py\u001b[0m in \u001b[0;36mget\u001b[0;34m(key)\u001b[0m\n\u001b[1;32m     66\u001b[0m     \u001b[0;32mraise\u001b[0m \u001b[0mTimeoutException\u001b[0m\u001b[0;34m(\u001b[0m\u001b[0mkey\u001b[0m\u001b[0;34m)\u001b[0m\u001b[0;34m\u001b[0m\u001b[0;34m\u001b[0m\u001b[0m\n\u001b[1;32m     67\u001b[0m   \u001b[0;32mif\u001b[0m \u001b[0;32mnot\u001b[0m \u001b[0mresp\u001b[0m\u001b[0;34m.\u001b[0m\u001b[0mget\u001b[0m\u001b[0;34m(\u001b[0m\u001b[0;34m'exists'\u001b[0m\u001b[0;34m,\u001b[0m \u001b[0;32mFalse\u001b[0m\u001b[0;34m)\u001b[0m\u001b[0;34m:\u001b[0m\u001b[0;34m\u001b[0m\u001b[0;34m\u001b[0m\u001b[0m\n\u001b[0;32m---> 68\u001b[0;31m     \u001b[0;32mraise\u001b[0m \u001b[0mSecretNotFoundError\u001b[0m\u001b[0;34m(\u001b[0m\u001b[0mkey\u001b[0m\u001b[0;34m)\u001b[0m\u001b[0;34m\u001b[0m\u001b[0;34m\u001b[0m\u001b[0m\n\u001b[0m\u001b[1;32m     69\u001b[0m   \u001b[0;32mif\u001b[0m \u001b[0;32mnot\u001b[0m \u001b[0mresp\u001b[0m\u001b[0;34m.\u001b[0m\u001b[0mget\u001b[0m\u001b[0;34m(\u001b[0m\u001b[0;34m'access'\u001b[0m\u001b[0;34m,\u001b[0m \u001b[0;32mFalse\u001b[0m\u001b[0;34m)\u001b[0m\u001b[0;34m:\u001b[0m\u001b[0;34m\u001b[0m\u001b[0;34m\u001b[0m\u001b[0m\n\u001b[1;32m     70\u001b[0m     \u001b[0;32mraise\u001b[0m \u001b[0mNotebookAccessError\u001b[0m\u001b[0;34m(\u001b[0m\u001b[0mkey\u001b[0m\u001b[0;34m)\u001b[0m\u001b[0;34m\u001b[0m\u001b[0;34m\u001b[0m\u001b[0m\n",
            "\u001b[0;31mSecretNotFoundError\u001b[0m: Secret OpenAIKEY does not exist."
          ]
        }
      ]
    },
    {
      "cell_type": "code",
      "source": [
        "# SELF-CONSISTENCY\n",
        "answers = []\n",
        "LOOPS = 4\n",
        "\n",
        "prompt = \"\"\"\n",
        "Retorne la 'Respuesta:\" por extenso siguiendo la lógica planteada.\n",
        "y el \"Resultado:\" sin ninguna operación ni puntuación además del valor.\n",
        "\n",
        "Pregunta: Si hay 3 coches en el estacionamiento y llegan 2 coches más, ¿cuántos coches estarán en el estacionamiento?\n",
        "Respuesta: Ya hay 3 coches en el estacionamiento. Llegan 2 más. Ahora hay 3 + 2 = 5 coches. La respuesta es 5.\n",
        "Resultado: 5\n",
        "\n",
        "Pregunta: Las gallinas de Janet ponen 16 huevos al día. Ella come tres en el desayuno todas las mañanas.\n",
        "También hace omeletes para sus amigos todos los días utilizando otros cuatro huevos.\n",
        "Vende el resto por 2 dólares por huevo. ¿Cuánto dinero gana todos los días?\n",
        "Respuesta:\n",
        "Resultado:\n",
        "\n",
        "\"\"\""
      ],
      "metadata": {
        "id": "RSud1Ekce0b8"
      },
      "execution_count": null,
      "outputs": []
    },
    {
      "cell_type": "code",
      "source": [
        "messages.append({\"role\": \"user\", \"content\": prompt})  # adiciona el prompt a la instrucción inicial y al histórico\n",
        "\n",
        "for loop in range(0, LOOPS):\n",
        "\n",
        "    # Llamada a la API\n",
        "    response = openai.chat.completions.create(\n",
        "        model = \"gpt-4o\",\n",
        "        messages = messages,\n",
        "        max_tokens = 200,\n",
        "        temperature = 1\n",
        "    )\n",
        "\n",
        "    # Extrae la respuesta del JSON de respuesta\n",
        "    answer = response.choices[0].message.content\n",
        "    print(f\"### LOOP\", loop, ':\\n')\n",
        "    print(answer)\n",
        "\n",
        "    start_index = answer.find(\"Resultado: \") + len(\"Resultado: \")\n",
        "    if start_index != -1:\n",
        "        number_answer = answer[start_index:].split()[0].rstrip('.')\n",
        "        #print(\"Respuesta:\", number_answer, '\\n------')\n",
        "        answers.append(int(number_answer))  # añade la respuesta a la lista de respuestas\n",
        "\n",
        "print(answers, '\\n')"
      ],
      "metadata": {
        "id": "c5BnZOK7fQwS",
        "collapsed": true
      },
      "execution_count": null,
      "outputs": []
    }
  ]
}