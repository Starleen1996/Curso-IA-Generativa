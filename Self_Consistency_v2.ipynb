{
  "nbformat": 4,
  "nbformat_minor": 0,
  "metadata": {
    "colab": {
      "provenance": []
    },
    "kernelspec": {
      "name": "python3",
      "display_name": "Python 3"
    },
    "language_info": {
      "name": "python"
    }
  },
  "cells": [
    {
      "cell_type": "code",
      "execution_count": null,
      "metadata": {
        "id": "WBOJbTAFeoIs"
      },
      "outputs": [],
      "source": [
        "pip install -q openai"
      ]
    },
    {
      "cell_type": "code",
      "source": [
        "from google.colab import userdata\n",
        "import openai\n",
        "\n",
        "# establece la API key\n",
        "openai.api_key = userdata.get('OpenAIKEY')\n",
        "\n",
        "# Definición de persona del sistema e historial de mensajes\n",
        "messages = [\n",
        "    {\n",
        "        \"role\": \"system\",\n",
        "        \"content\": \"Tu eres un asistente prestativo y educado.\" # establece la persona del modelo, si será educado, formal, sarcástico, etc.\n",
        "    }\n",
        "]"
      ],
      "metadata": {
        "id": "C1_QzyfBewyM"
      },
      "execution_count": null,
      "outputs": []
    },
    {
      "cell_type": "code",
      "source": [
        "# SELF-CONSISTENCY\n",
        "answers = []\n",
        "LOOPS = 4\n",
        "\n",
        "prompt = \"\"\"\n",
        "Retorne la 'Respuesta:\" por extenso siguiendo la lógica planteada.\n",
        "y el \"Resultado:\" sin ninguna operación ni puntuación además del valor.\n",
        "\n",
        "Pregunta: Si hay 3 coches en el estacionamiento y llegan 2 coches más, ¿cuántos coches estarán en el estacionamiento?\n",
        "Respuesta: Ya hay 3 coches en el estacionamiento. Llegan 2 más. Ahora hay 3 + 2 = 5 coches. La respuesta es 5.\n",
        "Resultado: 5\n",
        "\n",
        "Pregunta: Las gallinas de Janet ponen 16 huevos al día. Ella come tres en el desayuno todas las mañanas.\n",
        "También hace omeletes para sus amigos todos los días utilizando otros cuatro huevos.\n",
        "Vende el resto por 2 dólares por huevo. ¿Cuánto dinero gana todos los días?\n",
        "Respuesta:\n",
        "Resultado:\n",
        "\n",
        "\"\"\""
      ],
      "metadata": {
        "id": "RSud1Ekce0b8"
      },
      "execution_count": null,
      "outputs": []
    },
    {
      "cell_type": "code",
      "source": [
        "messages.append({\"role\": \"user\", \"content\": prompt})  # adiciona el prompt a la instrucción inicial y al histórico\n",
        "\n",
        "for loop in range(0, LOOPS):\n",
        "\n",
        "    # Llamada a la API\n",
        "    response = openai.chat.completions.create(\n",
        "        model = \"gpt-4o\",\n",
        "        messages = messages,\n",
        "        max_tokens = 200,\n",
        "        temperature = 1\n",
        "    )\n",
        "\n",
        "    # Extrae la respuesta del JSON de respuesta\n",
        "    answer = response.choices[0].message.content\n",
        "    print(f\"### LOOP\", loop, ':\\n')\n",
        "    print(answer)\n",
        "\n",
        "    start_index = answer.find(\"Resultado: \") + len(\"Resultado: \")\n",
        "    if start_index != -1:\n",
        "        number_answer = answer[start_index:].split()[0].rstrip('.')\n",
        "        #print(\"Respuesta:\", number_answer, '\\n------')\n",
        "        answers.append(int(number_answer))  # añade la respuesta a la lista de respuestas\n",
        "\n",
        "print(answers, '\\n')"
      ],
      "metadata": {
        "colab": {
          "base_uri": "https://localhost:8080/"
        },
        "id": "c5BnZOK7fQwS",
        "outputId": "d7e6afeb-c97d-4db7-ef79-e29f303a9e13",
        "collapsed": true
      },
      "execution_count": null,
      "outputs": [
        {
          "output_type": "stream",
          "name": "stdout",
          "text": [
            "### LOOP 0 :\n",
            "\n",
            "Respuesta: Janet tiene 16 huevos al día. Ella come 3 huevos en el desayuno. Luego, prepara omeletes con otros 4 huevos. Entonces, utiliza en total 3 + 4 = 7 huevos al día. Restando estos 7 de los 16 huevos que pone, quedan 16 - 7 = 9 huevos que vende. Con cada huevo vendiéndose a 2 dólares, ella gana 9 * 2 = 18 dólares diarios. La respuesta es 18.\n",
            "\n",
            "Resultado: 18\n",
            "### LOOP 1 :\n",
            "\n",
            "Respuesta: Las gallinas de Janet ponen 16 huevos al día. Ella utiliza 3 huevos para su desayuno cada mañana. También usa 4 huevos adicionales para hacer omeletes para sus amigos. Esto suma 3 + 4 = 7 huevos que utiliza diariamente. Por lo tanto, le quedan 16 - 7 = 9 huevos. Janet vende estos 9 huevos restantes a 2 dólares por huevo. Ella gana 9 x 2 = 18 dólares diarios con la venta de estos huevos. La respuesta es 18 dólares.\n",
            "\n",
            "Resultado: 18\n",
            "### LOOP 2 :\n",
            "\n",
            "Respuesta: Las gallinas de Janet ponen 16 huevos al día. Ella consume 3 en el desayuno y utiliza otros 4 para hacer omeletes. Por lo tanto, el número de huevos restantes es 16 - 3 - 4 = 9 huevos. Janet vende estos 9 huevos a 2 dólares por huevo. Por lo tanto, gana 9 x 2 = 18 dólares al día. La respuesta es 18.\n",
            "Resultado: 18\n",
            "### LOOP 3 :\n",
            "\n",
            "Respuesta: Las gallinas de Janet ponen 16 huevos al día. Ella consume 3 huevos en su desayuno y utiliza 4 huevos más para hacer omeletes para sus amigos. Eso significa que usa un total de 3 + 4 = 7 huevos al día. Por lo tanto, le quedan 16 - 7 = 9 huevos que puede vender. Dado que vende cada huevo por 2 dólares, gana 9 x 2 = 18 dólares al día. La respuesta es 18.\n",
            "\n",
            "Resultado: 18\n",
            "[18, 18, 18, 18] \n",
            "\n"
          ]
        }
      ]
    }
  ]
}